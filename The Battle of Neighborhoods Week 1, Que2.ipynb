{
 "cells": [
  {
   "cell_type": "markdown",
   "metadata": {},
   "source": [
    "# Capstone Project - The Battle of Neighborhoods"
   ]
  },
  {
   "cell_type": "markdown",
   "metadata": {},
   "source": [
    "### Introduction\n",
    "\n",
    "When arcade game manufacturers produced cabinets in the '80s, they made them to be placed in all sorts of arcades, malls and other areas of young-skewing entertainment. Fast forward to current time, and while arcades aren't as prevalent — or as popular — as they once were, they're still hanging around.\n",
    "\n",
    "And within these locations, new business models are developing. Many traditional arcades are changing their ways, moving away from the coin-based business model that has long been part of the arcade ecosystem.\n",
    "Meanwhile, combination arcade bars are springing up across the country, bringing their own methods of monetizing games with them, along with other changes to pull the machines in line with more adult — and modern — usage."
   ]
  },
  {
   "cell_type": "markdown",
   "metadata": {},
   "source": [
    "### So our Problem Statement is, Which locality of all the cities in United States would be the best place to start a Gaming Arcade?\n",
    "\n",
    "Since a long time a friend of mine is interested in starting a gaming arcade in the best locality of all the cities in United states. He defines a best locatlity based on the following constraints,\n",
    "\n",
    "* Population density of a locality\n",
    "* Per Capital income\n",
    "* Population of each location\n",
    "* Venues in each locality\n",
    "\n",
    "__The category of the venues that he's interested in are,__\n",
    "\n",
    "* Arts and Entertainment\n",
    "* Shops & Service\n",
    "* College and University\n",
    "* Event\n",
    "* Food\n",
    "* Nightife Spot\n",
    "* Outdoors & Recreation\n",
    "* Professional & Other places\n",
    "* Residence\n",
    "* Travel & Transport"
   ]
  },
  {
   "cell_type": "markdown",
   "metadata": {},
   "source": [
    "## Data we need"
   ]
  },
  {
   "cell_type": "markdown",
   "metadata": {},
   "source": [
    "__To help my friend to set up a gaming arcade, we will get the data from the below sources__\n",
    "\n",
    "* List of all the cities in United States with population density and coordinates: https://en.wikipedia.org/wiki/List_of_United_States_cities_by_population\n",
    "\n",
    "* List of all the cities in United States with Per Capita Income : \n",
    "https://en.wikipedia.org/wiki/List_of_United_States_counties_by_per_capita_income\n",
    "\n",
    "__We will use Four Square API to get the following__\n",
    "\n",
    "List of all venues in each city\n",
    "List of all venues in each locality in the selected city\n",
    "Using the above data we will first select best city to proceed with based on the values like Population density, per capita income of the state, number of venues (as we are giving weights to each venue based on its category).\n",
    "\n",
    "Once we select a city, we then go hunting for Localities. Again, we do it using the same approach i.e. based on the scores of venues in each locality."
   ]
  }
 ],
 "metadata": {
  "kernelspec": {
   "display_name": "Python 3.6",
   "language": "python",
   "name": "python3"
  },
  "language_info": {
   "codemirror_mode": {
    "name": "ipython",
    "version": 3
   },
   "file_extension": ".py",
   "mimetype": "text/x-python",
   "name": "python",
   "nbconvert_exporter": "python",
   "pygments_lexer": "ipython3",
   "version": "3.6.8"
  }
 },
 "nbformat": 4,
 "nbformat_minor": 1
}
